{
 "cells": [
  {
   "cell_type": "code",
   "execution_count": 1,
   "id": "27bf28d6-1b72-414d-9811-e00808060d40",
   "metadata": {},
   "outputs": [],
   "source": [
    "import pandas as pd\n",
    "import numpy as np\n",
    "from sklearn.datasets import load_breast_cancer\n",
    "from sklearn.model_selection import train_test_split\n",
    "from sklearn.metrics import accuracy_score, confusion_matrix, classification_report"
   ]
  },
  {
   "cell_type": "code",
   "execution_count": 2,
   "id": "358813b2-f341-482b-bd48-583966d75989",
   "metadata": {},
   "outputs": [],
   "source": [
    "# import sklearn.datasets\n",
    "b_can = load_breast_cancer()\n",
    "X = b_can.data\n",
    "Y = b_can.target"
   ]
  },
  {
   "cell_type": "code",
   "execution_count": 3,
   "id": "31282f5e-af9f-40a3-a965-01e69f1a3836",
   "metadata": {},
   "outputs": [],
   "source": [
    "x_train, x_test, y_train, y_test = train_test_split(X, Y)"
   ]
  },
  {
   "cell_type": "code",
   "execution_count": 4,
   "id": "6f349c79-5c19-485c-a196-1831e201a5ae",
   "metadata": {},
   "outputs": [],
   "source": [
    "def model(w, b, x):\n",
    "    if(np.dot(w, x) >= b):\n",
    "        return 1\n",
    "    else:\n",
    "        return 0\n",
    "        "
   ]
  },
  {
   "cell_type": "code",
   "execution_count": 5,
   "id": "2439bda4-e0c7-48af-88e4-150a003c7772",
   "metadata": {},
   "outputs": [],
   "source": [
    "def predict(w, b, X):\n",
    "    Y = []\n",
    "    for x in X:\n",
    "        res = model(w, b, x)\n",
    "        Y.append(res)\n",
    "    return np.array(Y)\n",
    "    "
   ]
  },
  {
   "cell_type": "code",
   "execution_count": 6,
   "id": "cdf743e9-df70-4903-b2b6-a51460c52304",
   "metadata": {},
   "outputs": [],
   "source": [
    "def fit(X, Y, epochs = 500, lr = 1):\n",
    "    w = np.ones(X.shape[1])\n",
    "    b = 0\n",
    "    accuracy = {}\n",
    "    max_accuracy = 0\n",
    "    wt_mat = []\n",
    "    for i in range(epochs):\n",
    "        for x, y in zip(X, Y):\n",
    "            y_pred = model(w, b, x)\n",
    "            if (y == 1 and y_pred == 0):\n",
    "                w = w + lr * x\n",
    "                b = b - lr * 1\n",
    "            elif (y == 0 and y_pred == 1):\n",
    "                w = w - lr * x\n",
    "                b = b + lr * 1\n",
    "        wt_mat.append(w)\n",
    "        accuracy[i] = accuracy_score(predict(w, b, X), Y)\n",
    "        if accuracy[i] > max_accuracy:\n",
    "            max_accuracy = accuracy[i]\n",
    "            chw = w\n",
    "            chb = b\n",
    "    w = chw\n",
    "    b = chb\n",
    "    print(\"Accuracy is : \", max_accuracy)\n",
    "    return np.array(wt_mat), w, b"
   ]
  },
  {
   "cell_type": "code",
   "execution_count": 7,
   "id": "c7ae0887-de25-4b83-9715-293116680392",
   "metadata": {},
   "outputs": [
    {
     "name": "stdout",
     "output_type": "stream",
     "text": [
      "Accuracy is :  0.8779342723004695\n"
     ]
    }
   ],
   "source": [
    "wt_mat, w, b = fit(x_train, y_train, 500, 1)\n",
    "y_pred = predict(w, b, x_test)"
   ]
  },
  {
   "cell_type": "code",
   "execution_count": 8,
   "id": "0fbbbd54-61de-4d4a-b3cb-0a18050f32c3",
   "metadata": {},
   "outputs": [
    {
     "name": "stdout",
     "output_type": "stream",
     "text": [
      "Classification Report is :                precision    recall  f1-score   support\n",
      "\n",
      "           0       0.81      1.00      0.89        54\n",
      "           1       1.00      0.85      0.92        89\n",
      "\n",
      "    accuracy                           0.91       143\n",
      "   macro avg       0.90      0.93      0.91       143\n",
      "weighted avg       0.93      0.91      0.91       143\n",
      "\n",
      "Confusion Matrix is :  [[54  0]\n",
      " [13 76]]\n",
      "Accuracy Score is :  0.9090909090909091\n"
     ]
    }
   ],
   "source": [
    "cr = classification_report(y_test, y_pred)\n",
    "m = confusion_matrix(y_test, y_pred)\n",
    "acc = accuracy_score(y_pred, y_test)\n",
    "\n",
    "print(\"Classification Report is : \",cr)\n",
    "print(\"Confusion Matrix is : \",m)\n",
    "print(\"Accuracy Score is : \",acc)"
   ]
  },
  {
   "cell_type": "code",
   "execution_count": null,
   "id": "58369e7b-da0d-44a7-abad-9f5492a45c33",
   "metadata": {},
   "outputs": [],
   "source": []
  },
  {
   "cell_type": "code",
   "execution_count": null,
   "id": "f73be254-8700-4cff-a8fe-525b3056de31",
   "metadata": {},
   "outputs": [],
   "source": []
  }
 ],
 "metadata": {
  "kernelspec": {
   "display_name": "Python 3 (ipykernel)",
   "language": "python",
   "name": "python3"
  },
  "language_info": {
   "codemirror_mode": {
    "name": "ipython",
    "version": 3
   },
   "file_extension": ".py",
   "mimetype": "text/x-python",
   "name": "python",
   "nbconvert_exporter": "python",
   "pygments_lexer": "ipython3",
   "version": "3.11.7"
  },
  "widgets": {
   "application/vnd.jupyter.widget-state+json": {
    "state": {},
    "version_major": 2,
    "version_minor": 0
   }
  }
 },
 "nbformat": 4,
 "nbformat_minor": 5
}
