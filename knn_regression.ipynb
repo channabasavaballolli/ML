{
 "cells": [
  {
   "cell_type": "code",
   "execution_count": null,
   "id": "cfb5105f-0f90-4c59-9dea-37030e0df97f",
   "metadata": {},
   "outputs": [],
   "source": [
    "import pandas as pd\n",
    "from sklearn import neighbors\n",
    "from sklearn.model_selection import train_test_split\n",
    "from sklearn.metrics import mean_squared_error\n",
    "from math import sqrt\n",
    "\n",
    "df=pd.read_csv(\"C:/Users/rohit/OneDrive/Documents/6th sem/ML/Lab/ML_datasets/Salary_dataset.csv\")\n",
    "df.head()\n",
    "\n",
    "# Preparing X and Y\n",
    "X=df[['YearsExperience']]\n",
    "Y=df['Salary']\n",
    "\n",
    "\n",
    "# Spliting X and Y\n",
    "X_train,X_test,Y_train,Y_test=train_test_split(X,Y,test_size=0.3,random_state=43)\n",
    "\n",
    "\n",
    "model=neighbors.KNeighborsRegressor(n_neighbors=3)\n",
    "\n",
    "\n",
    "# Model Training\n",
    "model.fit(X_train,Y_train)\n",
    "\n",
    "y_pred=model.predict(X_test)\n",
    "\n",
    "print(mean_squared_error(y_test,y_pred))\n"
   ]
  },
  {
   "cell_type": "code",
   "execution_count": null,
   "id": "606528c1-ce30-4954-903b-6eebd8c81c20",
   "metadata": {},
   "outputs": [],
   "source": []
  }
 ],
 "metadata": {
  "kernelspec": {
   "display_name": "Python 3 (ipykernel)",
   "language": "python",
   "name": "python3"
  },
  "language_info": {
   "codemirror_mode": {
    "name": "ipython",
    "version": 3
   },
   "file_extension": ".py",
   "mimetype": "text/x-python",
   "name": "python",
   "nbconvert_exporter": "python",
   "pygments_lexer": "ipython3",
   "version": "3.11.7"
  }
 },
 "nbformat": 4,
 "nbformat_minor": 5
}
